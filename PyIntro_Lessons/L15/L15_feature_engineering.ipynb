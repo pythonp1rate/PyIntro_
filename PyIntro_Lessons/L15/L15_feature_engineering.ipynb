{
  "cells": [
    {
      "cell_type": "markdown",
      "metadata": {},
      "source": [
        "# Lektion 15 - Feature Engineering\n",
        "\n",
        "## Syfte och mål\n",
        "This is the most crucial step in data preparation. You will learn to transform raw data (like text or timestamps) into useful numerical features. The goal is to master techniques for handling date/time data and converting non-numerical variables into a format suitable for both statistical analysis and machine learning.\n",
        "\n",
        "## Learning Objectives\n",
        "- Understand what feature engineering is and why it matters more than the ML algorithm itself\n",
        "- Master handling categorical data using One-Hot Encoding and Label Encoding\n",
        "- Learn to extract meaningful features from date/time data\n",
        "- Create derived features from existing variables\n",
        "- Apply text feature engineering techniques\n"
      ]
    },
    {
      "cell_type": "markdown",
      "metadata": {},
      "source": [
        "## Pre-class Reading\n",
        "\n",
        "### Korta läshänvisningar:\n",
        "- **The Art of Feature Engineering**: [Feature Engineering Guide](https://machinelearningmastery.com/the-concise-guide-to-feature-engineering-for-better-model-performance/)\n",
        "- **Handling Categorical Data**: [Encoding Categorical Variables](https://medium.com/@jaberi.mohamedhabib/encoding-categorical-variables-methods-and-techniques-in-pandas-scikit-learn-and-using-dummy-216ae2d5128d)\n",
        "\n",
        "### Fördjupning / Längre läshänvisningar:\n",
        "- **Date and Time Features**: [Working with Date and Time using Pandas](https://www.geeksforgeeks.org/python/python-working-with-date-and-time-using-pandas/)\n",
        "- **Text Feature Basics**: [Feature Engineering in NLP](https://www.analyticsvidhya.com/blog/2021/04/a-guide-to-feature-engineering-in-nlp/)\n",
        "\n",
        "### Videos:\n",
        "- Feature Engineering Examples: Practical, real-world examples of creating new features from raw data\n",
        "- Encoding Categorical Variables: Visual tutorial explaining the difference between One-Hot and Label Encoding\n"
      ]
    },
    {
      "cell_type": "markdown",
      "metadata": {},
      "source": [
        "## Classroom Activities\n",
        "\n",
        "### Aktivitet 1: Discussion - Raw Data to Insight (15 min)\n",
        "Start with a discussion on how a raw data column (e.g., a timestamp) can contain several valuable features.\n",
        "\n",
        "**Questions:**\n",
        "- \"If you have a column named Registration_Date, what are three new features you could create from it?\"\n",
        "- \"Why must we convert a categorical column like 'Color' into numbers before performing statistical analysis or training a model?\"\n",
        "\n",
        "### Aktivitet 2: Lab - Time and Categorical Transformation\n",
        "Students will work with a dataset containing text and date columns to practice key transformation methods.\n"
      ]
    },
    {
      "cell_type": "code",
      "execution_count": 24,
      "metadata": {},
      "outputs": [],
      "source": [
        "# Import necessary libraries\n",
        "import pandas as pd\n",
        "import numpy as np\n",
        "from datetime import datetime\n"
      ]
    },
    {
      "cell_type": "code",
      "execution_count": 61,
      "metadata": {},
      "outputs": [
        {
          "name": "stdout",
          "output_type": "stream",
          "text": [
            "Original DataFrame:\n",
            "     Registration_Time Product          Title\n",
            "0    10:30:00 20251001    Book  War and Peace\n",
            "1    10:30:00 20251002   Ebook  War and Peace\n",
            "2  2025-10-05 14:00:00   Ebook         Gatsby\n",
            "3  2025-10-17 09:15:00    Book      Moby Dick\n",
            "\n",
            "DataFrame shape: (4, 3)\n",
            "Data types:\n",
            "Registration_Time    object\n",
            "Product              object\n",
            "Title                object\n",
            "dtype: object\n"
          ]
        }
      ],
      "source": [
        "# 1. Create Data with Raw Features\n",
        "data = {'Registration_Time': ['10:30:00 20251001','10:30:00 20251002', '2025-10-05 14:00:00', '2025-10-17 09:15:00'],\n",
        "        'Product': ['Book', \"Ebook\" , 'Ebook', 'Book'],\n",
        "        'Title': ['War and Peace','War and Peace', 'Gatsby', 'Moby Dick']}\n",
        "df_raw = pd.DataFrame(data)\n",
        "\n",
        "print(\"Original DataFrame:\")\n",
        "print(df_raw)\n",
        "print(f\"\\nDataFrame shape: {df_raw.shape}\")\n",
        "print(f\"Data types:\\n{df_raw.dtypes}\")\n"
      ]
    },
    {
      "cell_type": "code",
      "execution_count": 51,
      "metadata": {},
      "outputs": [
        {
          "name": "stdout",
          "output_type": "stream",
          "text": [
            "<class 'pandas.core.frame.DataFrame'>\n",
            "RangeIndex: 3 entries, 0 to 2\n",
            "Data columns (total 3 columns):\n",
            " #   Column             Non-Null Count  Dtype \n",
            "---  ------             --------------  ----- \n",
            " 0   Registration_Time  3 non-null      object\n",
            " 1   Product            3 non-null      object\n",
            " 2   Title              3 non-null      object\n",
            "dtypes: object(3)\n",
            "memory usage: 200.0+ bytes\n"
          ]
        }
      ],
      "source": [
        "# With info we can also inspect types, dtypes also work\n",
        "\n",
        "df_raw.info()"
      ]
    },
    {
      "cell_type": "markdown",
      "metadata": {},
      "source": [
        "### Time Feature Engineering\n"
      ]
    },
    {
      "cell_type": "code",
      "execution_count": 52,
      "metadata": {},
      "outputs": [
        {
          "name": "stdout",
          "output_type": "stream",
          "text": [
            "0   2025-10-01 10:30:00\n",
            "1   2025-10-05 14:00:00\n",
            "2   2025-10-17 09:15:00\n",
            "Name: Registration_Time, dtype: datetime64[ns]\n",
            "0    2\n",
            "1    6\n",
            "2    4\n",
            "Name: Registration_Time, dtype: int32\n"
          ]
        }
      ],
      "source": [
        "# With to_datetime(), we can transform datetime-looking data into \n",
        "# actual datetimes (which python understands as dates)\n",
        "\n",
        "registration_time = pd.to_datetime(df_raw[\"Registration_Time\"], format=\"mixed\")\n",
        "print(registration_time)\n",
        "\n",
        "weekday = registration_time.dt.dayofweek\n",
        "print(weekday)\n",
        "\n",
        "# Once the column is appropriately typed we can explore methods on it\n",
        "# registration_time.dt\n"
      ]
    },
    {
      "cell_type": "code",
      "execution_count": 53,
      "metadata": {},
      "outputs": [
        {
          "name": "stdout",
          "output_type": "stream",
          "text": [
            "DataFrame with Time Features:\n",
            "    Registration_Time Product          Title  DayOfWeek  Hour  Month  Year  \\\n",
            "0 2025-10-01 10:30:00    Book  War and Peace          2    10     10  2025   \n",
            "1 2025-10-05 14:00:00   Ebook         Gatsby          6    14     10  2025   \n",
            "2 2025-10-17 09:15:00    Book      Moby Dick          4     9     10  2025   \n",
            "\n",
            "   DayOfYear  \n",
            "0        274  \n",
            "1        278  \n",
            "2        290  \n"
          ]
        }
      ],
      "source": [
        "# 2. Time Feature Engineering\n",
        "df_raw['Registration_Time'] = pd.to_datetime(df_raw['Registration_Time'], format = \"mixed\" )\n",
        "df_raw['DayOfWeek'] = df_raw['Registration_Time'].dt.dayofweek  # 0=Monday, 6=Sunday\n",
        "df_raw['Hour'] = df_raw['Registration_Time'].dt.hour\n",
        "df_raw['Month'] = df_raw['Registration_Time'].dt.month\n",
        "df_raw['Year'] = df_raw['Registration_Time'].dt.year\n",
        "df_raw['DayOfYear'] = df_raw['Registration_Time'].dt.dayofyear\n",
        "\n",
        "print(\"DataFrame with Time Features:\")\n",
        "print(df_raw)\n"
      ]
    },
    {
      "cell_type": "markdown",
      "metadata": {},
      "source": [
        "### Text Feature Engineering\n"
      ]
    },
    {
      "cell_type": "code",
      "execution_count": null,
      "metadata": {},
      "outputs": [
        {
          "name": "stdout",
          "output_type": "stream",
          "text": [
            "DataFrame with Text Features:\n",
            "    Registration_Time Product          Title  DayOfWeek  Hour  Month  Year  \\\n",
            "0 2025-10-01 10:30:00    Book  War and Peace          2    10     10  2025   \n",
            "1 2025-10-05 14:00:00   Ebook         Gatsby          6    14     10  2025   \n",
            "2 2025-10-17 09:15:00    Book      Moby Dick          4     9     10  2025   \n",
            "\n",
            "   DayOfYear  Title_Length  Word_Count  Has_And  Starts_With_Capital  \n",
            "0        274            13           3        1                    1  \n",
            "1        278             6           1        0                    1  \n",
            "2        290             9           2        0                    1  \n"
          ]
        }
      ],
      "source": [
        "# 3. Text Feature Engineering\n",
        "\n",
        "# For text features, it can often be useful to create features based on string properties\n",
        "# Features like:\n",
        "# - Length of the string\n",
        "# - Number of words\n",
        "# - Presence of specific keywords\n",
        "# - Whether it starts with a capital letter\n",
        "df_raw['Title_Length'] = df_raw['Title'].str.len()\n",
        "df_raw['Word_Count'] = df_raw['Title'].str.split().str.len()\n",
        "df_raw['Has_And'] = df_raw['Title'].str.contains('and', case=False).astype(int)\n",
        "df_raw['Starts_With_Capital'] = df_raw['Title'].str[0].str.isupper().astype(int)\n",
        "\n",
        "print(\"DataFrame with Text Features:\")\n",
        "print(df_raw)\n"
      ]
    },
    {
      "cell_type": "markdown",
      "metadata": {},
      "source": [
        "### Categorical Encoding\n"
      ]
    },
    {
      "cell_type": "code",
      "execution_count": 55,
      "metadata": {},
      "outputs": [
        {
          "name": "stdout",
          "output_type": "stream",
          "text": [
            "Before One-Hot Encoding:\n",
            "Product column unique values: ['Book' 'Ebook']\n",
            "\n",
            "One-Hot Encoded Product column:\n",
            "   Product_Book  Product_Ebook\n",
            "0          True          False\n",
            "1         False           True\n",
            "2          True          False\n",
            "\n",
            "DataFrame after One-Hot Encoding:\n",
            "    Registration_Time          Title  DayOfWeek  Hour  Month  Year  DayOfYear  \\\n",
            "0 2025-10-01 10:30:00  War and Peace          2    10     10  2025        274   \n",
            "1 2025-10-05 14:00:00         Gatsby          6    14     10  2025        278   \n",
            "2 2025-10-17 09:15:00      Moby Dick          4     9     10  2025        290   \n",
            "\n",
            "   Title_Length  Word_Count  Has_And  Starts_With_Capital  Product_Book  \\\n",
            "0            13           3        1                    1          True   \n",
            "1             6           1        0                    1         False   \n",
            "2             9           2        0                    1          True   \n",
            "\n",
            "   Product_Ebook  \n",
            "0          False  \n",
            "1           True  \n",
            "2          False  \n"
          ]
        }
      ],
      "source": [
        "# 4. Categorical Encoding (One-Hot)\n",
        "print(\"Before One-Hot Encoding:\")\n",
        "print(f\"Product column unique values: {df_raw['Product'].unique()}\")\n",
        "\n",
        "# One-Hot Encoding\n",
        "product_dummies = pd.get_dummies(df_raw['Product'], prefix='Product')\n",
        "print(f\"\\nOne-Hot Encoded Product column:\")\n",
        "print(product_dummies)\n",
        "\n",
        "# Combine with original dataframe\n",
        "df_processed = pd.concat([df_raw.drop('Product', axis=1), product_dummies], axis=1)\n",
        "print(f\"\\nDataFrame after One-Hot Encoding:\")\n",
        "print(df_processed)\n"
      ]
    },
    {
      "cell_type": "code",
      "execution_count": 56,
      "metadata": {},
      "outputs": [
        {
          "name": "stdout",
          "output_type": "stream",
          "text": [
            "Requirement already satisfied: scikit-learn in /Users/andreas/PyIntro-Hub/PyIntro/PyIntro_Lessons/venv/lib/python3.9/site-packages (1.6.1)\n",
            "Requirement already satisfied: numpy>=1.19.5 in /Users/andreas/PyIntro-Hub/PyIntro/PyIntro_Lessons/venv/lib/python3.9/site-packages (from scikit-learn) (2.0.2)\n",
            "Requirement already satisfied: scipy>=1.6.0 in /Users/andreas/PyIntro-Hub/PyIntro/PyIntro_Lessons/venv/lib/python3.9/site-packages (from scikit-learn) (1.13.1)\n",
            "Requirement already satisfied: joblib>=1.2.0 in /Users/andreas/PyIntro-Hub/PyIntro/PyIntro_Lessons/venv/lib/python3.9/site-packages (from scikit-learn) (1.5.2)\n",
            "Requirement already satisfied: threadpoolctl>=3.1.0 in /Users/andreas/PyIntro-Hub/PyIntro/PyIntro_Lessons/venv/lib/python3.9/site-packages (from scikit-learn) (3.6.0)\n",
            "Note: you may need to restart the kernel to use updated packages.\n"
          ]
        }
      ],
      "source": [
        "%pip install scikit-learn"
      ]
    },
    {
      "cell_type": "code",
      "execution_count": 57,
      "metadata": {},
      "outputs": [
        {
          "name": "stdout",
          "output_type": "stream",
          "text": [
            "Label Encoding Example:\n",
            "Original Product values: ['Book' 'Ebook']\n",
            "Encoded values: [0 1]\n",
            "Label mapping: {'Book': np.int64(0), 'Ebook': np.int64(1)}\n",
            "\n",
            "DataFrame with Label Encoding:\n",
            "  Product  Product_Label\n",
            "0    Book              0\n",
            "1   Ebook              1\n",
            "2    Book              0\n"
          ]
        }
      ],
      "source": [
        "# Alternative: Label Encoding for ordinal categories\n",
        "from sklearn.preprocessing import LabelEncoder\n",
        "\n",
        "# Create a copy for label encoding example\n",
        "df_label = df_raw.copy()\n",
        "\n",
        "# Label Encoding\n",
        "le = LabelEncoder()\n",
        "df_label['Product_Label'] = le.fit_transform(df_label['Product'])\n",
        "\n",
        "print(\"Label Encoding Example:\")\n",
        "print(f\"Original Product values: {df_label['Product'].unique()}\")\n",
        "print(f\"Encoded values: {df_label['Product_Label'].unique()}\")\n",
        "print(f\"Label mapping: {dict(zip(le.classes_, le.transform(le.classes_)))}\")\n",
        "print(f\"\\nDataFrame with Label Encoding:\")\n",
        "print(df_label[['Product', 'Product_Label']])\n"
      ]
    },
    {
      "cell_type": "markdown",
      "metadata": {},
      "source": [
        "### Creating Derived Features\n"
      ]
    },
    {
      "cell_type": "code",
      "execution_count": 58,
      "metadata": {},
      "outputs": [
        {
          "name": "stdout",
          "output_type": "stream",
          "text": [
            "DataFrame with Derived Features:\n",
            "   DayOfWeek  Is_Weekend  Hour  Is_Business_Hours  Title_Length  Word_Count  \\\n",
            "0          2           0    10                  1            13           3   \n",
            "1          6           1    14                  1             6           1   \n",
            "2          4           0     9                  1             9           2   \n",
            "\n",
            "   Title_Complexity  \n",
            "0                39  \n",
            "1                 6  \n",
            "2                18  \n"
          ]
        }
      ],
      "source": [
        "# 5. Creating Derived Features\n",
        "# Example: Creating a weekend indicator\n",
        "df_processed['Is_Weekend'] = (df_processed['DayOfWeek'] >= 5).astype(int)\n",
        "\n",
        "# Example: Creating a business hours indicator\n",
        "df_processed['Is_Business_Hours'] = ((df_processed['Hour'] >= 9) & (df_processed['Hour'] <= 17)).astype(int)\n",
        "\n",
        "# Example: Creating a complex feature combining multiple variables\n",
        "df_processed['Title_Complexity'] = df_processed['Title_Length'] * df_processed['Word_Count']\n",
        "\n",
        "print(\"DataFrame with Derived Features:\")\n",
        "print(df_processed[['DayOfWeek', 'Is_Weekend', 'Hour', 'Is_Business_Hours', 'Title_Length', 'Word_Count', 'Title_Complexity']])\n"
      ]
    },
    {
      "cell_type": "markdown",
      "metadata": {},
      "source": [
        "## Assignment\n",
        "**Complete the L15_assignment.py** - This assignment provides hands-on practice with feature engineering using an e-commerce dataset, including:\n",
        "- Time feature engineering from order dates\n",
        "- Text feature engineering from product names and addresses\n",
        "- Categorical encoding strategies (One-Hot and Label Encoding)\n",
        "- Derived features from existing variables\n",
        "- Advanced feature engineering techniques\n",
        "- Feature validation and documentation\n"
      ]
    },
    {
      "cell_type": "markdown",
      "metadata": {},
      "source": [
        "### Aktivitet 3: Hands-on - Feature Ideation (30 min)\n",
        "Students select 3 features in their project dataset that are currently in a raw state (e.g., a text description, a date column, or two related numerical columns) and implement a strategy to transform them into a predictive feature.\n",
        "\n",
        "**Exercise:**\n",
        "1. Identify 3 raw features in your dataset\n",
        "2. For each feature, propose 2-3 new engineered features\n",
        "3. Implement the transformations\n",
        "4. Document the reasoning behind each feature"
      ]
    },
    {
      "cell_type": "markdown",
      "metadata": {},
      "source": [
        "## Key Takeaways\n",
        "\n",
        "1. **Feature Engineering is Crucial**: Often matters more than the ML algorithm choice\n",
        "2. **Time Features**: Extract meaningful components (day, hour, month, etc.) from datetime columns\n",
        "3. **Text Features**: Create numerical features from text (length, word count, patterns)\n",
        "4. **Categorical Encoding**: \n",
        "   - One-Hot Encoding for nominal categories\n",
        "   - Label Encoding for ordinal categories\n",
        "5. **Derived Features**: Combine existing features to create more predictive variables\n",
        "6. **Domain Knowledge**: Use your understanding of the problem to create meaningful features\n",
        "\n",
        "## Best Practices\n",
        "\n",
        "- **Start Simple**: Begin with basic transformations before complex ones\n",
        "- **Validate Impact**: Always check if new features improve model performance\n",
        "- **Avoid Data Leakage**: Ensure features don't use future information\n",
        "- **Document Everything**: Keep track of how features were created\n",
        "- **Test on Holdout**: Validate feature engineering on unseen data\n",
        "\n",
        "## Next Steps\n",
        "- Practice with your own datasets\n",
        "- Experiment with different feature combinations\n",
        "- Learn about feature selection techniques\n",
        "- Move on to Lesson 16: Data Quality\n"
      ]
    }
  ],
  "metadata": {
    "kernelspec": {
      "display_name": "venv",
      "language": "python",
      "name": "python3"
    },
    "language_info": {
      "codemirror_mode": {
        "name": "ipython",
        "version": 3
      },
      "file_extension": ".py",
      "mimetype": "text/x-python",
      "name": "python",
      "nbconvert_exporter": "python",
      "pygments_lexer": "ipython3",
      "version": "3.9.7"
    }
  },
  "nbformat": 4,
  "nbformat_minor": 2
}
