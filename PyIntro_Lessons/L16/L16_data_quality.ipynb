{
  "cells": [
    {
      "cell_type": "markdown",
      "metadata": {},
      "source": [
        "# Lektion 16 - Data Quality\n",
        "\n",
        "## Syfte och mål\n",
        "Real-world data is inherently flawed. This lesson focuses on making data robust and reliable. You will learn systematic methods for handling dirty data: removing duplicates, employing sophisticated missing value strategies, and statistically identifying and treating extreme values (outliers).\n",
        "\n",
        "## Learning Objectives\n",
        "- Identify and handle duplicate records using Pandas\n",
        "- Apply different strategies for missing value imputation\n",
        "- Use statistical methods (IQR) to identify outliers\n",
        "- Implement outlier treatment strategies (dropping, capping, transformation)\n",
        "- Build a comprehensive data quality audit pipeline\n"
      ]
    },
    {
      "cell_type": "markdown",
      "metadata": {},
      "source": [
        "## Pre-class Reading\n",
        "\n",
        "### Korta läshänvisningar:\n",
        "- **Handling Duplicates**: [Handle Duplicate Values in Pandas](https://www.programiz.com/python-programming/pandas/handle-duplicate-values)\n",
        "- **The IQR Method**: [Interquartile Range to Detect Outliers](https://www.geeksforgeeks.org/machine-learning/interquartile-range-to-detect-outliers-in-data/)\n",
        "\n",
        "### Fördjupning / Längre läshänvisningar:\n",
        "- **Advanced Imputation**: [Techniques to Pandas Impute Missing Values](https://medium.com/@heyamit10/techniques-to-pandas-impute-missing-values-993f64ad2132)\n",
        "- **Outlier Treatment Strategies**: [Quick Guide to Outlier Treatment](https://medium.com/@bhatshrinath41/quick-guide-to-outlier-treatment-ada01f8cfc5)\n",
        "\n",
        "### Videos:\n",
        "- Identifying and Handling Outliers: Visual demonstration of boxplot methods for finding outliers\n",
        "- Comprehensive Data Cleaning: Complete cleaning pipeline from checking nulls to handling inconsistent text formatting\n"
      ]
    },
    {
      "cell_type": "markdown",
      "metadata": {},
      "source": [
        "## Classroom Activities (Hands-on Lab)\n",
        "\n",
        "### Aktivitet 1: Discussion - Trusting the Data (15 min)\n",
        "Start with a discussion on the costs of poor data quality in an AI context (e.g., a model trained on faulty data performs poorly in production).\n",
        "\n",
        "**Questions:**\n",
        "- \"Why is simply dropping every row with a missing value often a bad strategy?\"\n",
        "- \"If you are analyzing a feature like Income, and you find outliers, what is one reason you might choose to cap them instead of removing them?\"\n",
        "\n",
        "### Aktivitet 2: Lab - Duplicates, Imputation, and Outlier Treatment (60 min)\n",
        "Students will work with a deliberately messy dataset to implement data quality checks.\n"
      ]
    },
    {
      "cell_type": "code",
      "execution_count": 2,
      "metadata": {},
      "outputs": [],
      "source": [
        "# Import necessary libraries\n",
        "import pandas as pd\n",
        "import numpy as np\n",
        "import matplotlib.pyplot as plt\n",
        "import seaborn as sns\n"
      ]
    },
    {
      "cell_type": "code",
      "execution_count": 3,
      "metadata": {},
      "outputs": [
        {
          "name": "stdout",
          "output_type": "stream",
          "text": [
            "Original Messy Dataset:\n",
            "  Category  Value    City  Score     Name\n",
            "0        A     10      NY   85.0     John\n",
            "1        A     12      NY   92.0     Jane\n",
            "2        B    100     NaN    NaN      Bob\n",
            "3        A     15  London   78.0    Alice\n",
            "4        B     12  London   88.0  Charlie\n",
            "5        B     11      NY   95.0     John\n",
            "6        A    250   Paris   45.0    David\n",
            "7        A      8      NY   82.0      Eve\n",
            "8        B      9  London   90.0    Frank\n",
            "9        A     13      NY   87.0    Grace\n",
            "\n",
            "Dataset shape: (10, 5)\n",
            "\n",
            "Data types:\n",
            "Category     object\n",
            "Value         int64\n",
            "City         object\n",
            "Score       float64\n",
            "Name         object\n",
            "dtype: object\n"
          ]
        }
      ],
      "source": [
        "# 1. Create Sample Data with Missing Values and Outliers\n",
        "data = {'Category': ['A', 'A', 'B', 'A', 'B', 'B', 'A', 'A', 'B', 'A'],\n",
        "        'Value': [10, 12, 100, 15, 12, 11, 250, 8, 9, 13],  # 100 and 250 are outliers\n",
        "        'City': ['NY', 'NY', np.nan, 'London', 'London', 'NY', 'Paris', 'NY', 'London', 'NY'],\n",
        "        'Score': [85, 92, np.nan, 78, 88, 95, 45, 82, 90, 87],\n",
        "        'Name': ['John', 'Jane', 'Bob', 'Alice', 'Charlie', 'John', 'David', 'Eve', 'Frank', 'Grace']}\n",
        "\n",
        "df_messy = pd.DataFrame(data)\n",
        "\n",
        "print(\"Original Messy Dataset:\")\n",
        "print(df_messy)\n",
        "print(f\"\\nDataset shape: {df_messy.shape}\")\n",
        "print(f\"\\nData types:\\n{df_messy.dtypes}\")\n"
      ]
    },
    {
      "cell_type": "markdown",
      "metadata": {},
      "source": [
        "### Step 1: Data Quality Assessment\n"
      ]
    },
    {
      "cell_type": "code",
      "execution_count": 4,
      "metadata": {},
      "outputs": [
        {
          "name": "stdout",
          "output_type": "stream",
          "text": [
            "Missing Values Summary:\n",
            "Category    0\n",
            "Value       0\n",
            "City        1\n",
            "Score       1\n",
            "Name        0\n",
            "dtype: int64\n",
            "\n",
            "Total missing values: 2\n",
            "\n",
            "Duplicate rows: 0\n",
            "Duplicate rows (considering all columns): 0\n",
            "Duplicate names: 1\n",
            "\n",
            "Numerical columns statistics:\n",
            "            Value      Score\n",
            "count   10.000000   9.000000\n",
            "mean    44.000000  82.444444\n",
            "std     77.594387  14.942482\n",
            "min      8.000000  45.000000\n",
            "25%     10.250000  82.000000\n",
            "50%     12.000000  87.000000\n",
            "75%     14.500000  90.000000\n",
            "max    250.000000  95.000000\n"
          ]
        }
      ],
      "source": [
        "# Check for missing values\n",
        "print(\"Missing Values Summary:\")\n",
        "print(df_messy.isnull().sum())\n",
        "print(f\"\\nTotal missing values: {df_messy.isnull().sum().sum()}\")\n",
        "\n",
        "# Check for duplicates\n",
        "print(f\"\\nDuplicate rows: {df_messy.duplicated().sum()}\")\n",
        "print(f\"Duplicate rows (considering all columns): {df_messy.duplicated().sum()}\")\n",
        "\n",
        "# Check for duplicates in specific columns\n",
        "print(f\"Duplicate names: {df_messy['Name'].duplicated().sum()}\")\n",
        "\n",
        "# Basic statistics for numerical columns\n",
        "print(f\"\\nNumerical columns statistics:\")\n",
        "print(df_messy.describe())\n"
      ]
    },
    {
      "cell_type": "markdown",
      "metadata": {},
      "source": [
        "### Step 2: Handling Missing Values\n"
      ]
    },
    {
      "cell_type": "code",
      "execution_count": 5,
      "metadata": {},
      "outputs": [
        {
          "name": "stdout",
          "output_type": "stream",
          "text": [
            "After Imputing Missing Values:\n",
            "  Category  Value    City  Score     Name\n",
            "0        A     10      NY   85.0     John\n",
            "1        A     12      NY   92.0     Jane\n",
            "2        B    100      NY   87.0      Bob\n",
            "3        A     15  London   78.0    Alice\n",
            "4        B     12  London   88.0  Charlie\n",
            "5        B     11      NY   95.0     John\n",
            "6        A    250   Paris   45.0    David\n",
            "7        A      8      NY   82.0      Eve\n",
            "8        B      9  London   90.0    Frank\n",
            "9        A     13      NY   87.0    Grace\n",
            "\n",
            "Missing values after imputation: 0\n"
          ]
        }
      ],
      "source": [
        "# 2. Imputation (Mode for Categorical, Median for Outlier-Prone Numeric)\n",
        "df_cleaned = df_messy.copy()\n",
        "\n",
        "# For categorical variables, use mode\n",
        "df_cleaned['City'] = df_cleaned['City'].fillna(df_cleaned['City'].mode()[0])\n",
        "\n",
        "# For numerical variables, use median (more robust to outliers than mean)\n",
        "df_cleaned['Score'] = df_cleaned['Score'].fillna(df_cleaned['Score'].median())\n",
        "\n",
        "print(\"After Imputing Missing Values:\")\n",
        "print(df_cleaned)\n",
        "print(f\"\\nMissing values after imputation: {df_cleaned.isnull().sum().sum()}\")\n"
      ]
    },
    {
      "cell_type": "markdown",
      "metadata": {},
      "source": [
        "### Step 3: Outlier Detection and Treatment\n"
      ]
    },
    {
      "cell_type": "code",
      "execution_count": 6,
      "metadata": {},
      "outputs": [
        {
          "name": "stdout",
          "output_type": "stream",
          "text": [
            "Outlier Detection for 'Value' column:\n",
            "Q1: 10.25\n",
            "Q3: 14.50\n",
            "IQR: 4.25\n",
            "Lower bound: 3.88\n",
            "Upper bound: 20.88\n",
            "\n",
            "Outliers found: 2\n",
            "    Name  Value\n",
            "2    Bob    100\n",
            "6  David    250\n"
          ]
        }
      ],
      "source": [
        "# 3. Outlier Detection using IQR Method\n",
        "def detect_outliers_iqr(data, column):\n",
        "    Q1 = data[column].quantile(0.25)\n",
        "    Q3 = data[column].quantile(0.75)\n",
        "    IQR = Q3 - Q1\n",
        "    lower_bound = Q1 - 1.5 * IQR\n",
        "    upper_bound = Q3 + 1.5 * IQR\n",
        "    \n",
        "    outliers = data[(data[column] < lower_bound) | (data[column] > upper_bound)]\n",
        "    return outliers, lower_bound, upper_bound\n",
        "\n",
        "# Detect outliers in Value column\n",
        "outliers, lower_bound, upper_bound = detect_outliers_iqr(df_cleaned, 'Value')\n",
        "\n",
        "print(f\"Outlier Detection for 'Value' column:\")\n",
        "print(f\"Q1: {df_cleaned['Value'].quantile(0.25):.2f}\")\n",
        "print(f\"Q3: {df_cleaned['Value'].quantile(0.75):.2f}\")\n",
        "print(f\"IQR: {df_cleaned['Value'].quantile(0.75) - df_cleaned['Value'].quantile(0.25):.2f}\")\n",
        "print(f\"Lower bound: {lower_bound:.2f}\")\n",
        "print(f\"Upper bound: {upper_bound:.2f}\")\n",
        "print(f\"\\nOutliers found: {len(outliers)}\")\n",
        "print(outliers[['Name', 'Value']])\n"
      ]
    },
    {
      "cell_type": "code",
      "execution_count": 7,
      "metadata": {},
      "outputs": [
        {
          "name": "stdout",
          "output_type": "stream",
          "text": [
            "After Capping Outliers:\n",
            "  Category   Value    City  Score     Name\n",
            "0        A  10.000      NY   85.0     John\n",
            "1        A  12.000      NY   92.0     Jane\n",
            "2        B  20.875      NY   87.0      Bob\n",
            "3        A  15.000  London   78.0    Alice\n",
            "4        B  12.000  London   88.0  Charlie\n",
            "5        B  11.000      NY   95.0     John\n",
            "6        A  20.875   Paris   45.0    David\n",
            "7        A   8.000      NY   82.0      Eve\n",
            "8        B   9.000  London   90.0    Frank\n",
            "9        A  13.000      NY   87.0    Grace\n",
            "\n",
            "Value column statistics after capping:\n",
            "count    10.000000\n",
            "mean     13.175000\n",
            "std       4.518173\n",
            "min       8.000000\n",
            "25%      10.250000\n",
            "50%      12.000000\n",
            "75%      14.500000\n",
            "max      20.875000\n",
            "Name: Value, dtype: float64\n"
          ]
        }
      ],
      "source": [
        "# 4. Outlier Treatment: Capping (Winsorization)\n",
        "df_final = df_cleaned.copy()\n",
        "\n",
        "# Cap outliers to the calculated bounds\n",
        "df_final['Value'] = np.where(df_final['Value'] > upper_bound, upper_bound, df_final['Value'])\n",
        "df_final['Value'] = np.where(df_final['Value'] < lower_bound, lower_bound, df_final['Value'])\n",
        "\n",
        "print(\"After Capping Outliers:\")\n",
        "print(df_final)\n",
        "print(f\"\\nValue column statistics after capping:\")\n",
        "print(df_final['Value'].describe())\n"
      ]
    },
    {
      "cell_type": "markdown",
      "metadata": {},
      "source": [
        "### Step 4: Visualizing Data Quality Improvements\n"
      ]
    },
    {
      "cell_type": "code",
      "execution_count": 8,
      "metadata": {},
      "outputs": [
        {
          "data": {
            "image/png": "[encoded data removed]",
            "text/plain": [
              "<Figure size 1200x500 with 2 Axes>"
            ]
          },
          "metadata": {},
          "output_type": "display_data"
        }
      ],
      "source": [
        "# Visualize the impact of outlier treatment\n",
        "fig, axes = plt.subplots(1, 2, figsize=(12, 5))\n",
        "\n",
        "# Before outlier treatment\n",
        "sns.boxplot(data=df_cleaned, y='Value', ax=axes[0])\n",
        "axes[0].set_title('Before Outlier Treatment')\n",
        "axes[0].set_ylabel('Value')\n",
        "\n",
        "# After outlier treatment\n",
        "sns.boxplot(data=df_final, y='Value', ax=axes[1])\n",
        "axes[1].set_title('After Outlier Treatment (Capped)')\n",
        "axes[1].set_ylabel('Value')\n",
        "\n",
        "plt.tight_layout()\n",
        "plt.show()\n"
      ]
    },
    {
      "cell_type": "markdown",
      "metadata": {},
      "source": [
        "### Step 5: Comprehensive Data Quality Report\n"
      ]
    },
    {
      "cell_type": "code",
      "execution_count": 9,
      "metadata": {},
      "outputs": [
        {
          "name": "stdout",
          "output_type": "stream",
          "text": [
            "=== Data Quality Report for Original Messy Data ===\n",
            "Shape: (10, 5)\n",
            "Memory usage: 2.01 KB\n",
            "\n",
            "Missing Values:\n",
            "City     1\n",
            "Score    1\n",
            "dtype: int64\n",
            "\n",
            "Duplicate Rows: 0\n",
            "\n",
            "Numerical Columns Summary:\n",
            "Value: mean=44.00, std=77.59, range=[8.00, 250.00]\n",
            "Score: mean=82.44, std=14.94, range=[45.00, 95.00]\n",
            "\n",
            "Categorical Columns Summary:\n",
            "Category: 2 unique values\n",
            "City: 3 unique values\n",
            "Name: 9 unique values\n",
            "\n",
            "==================================================\n",
            "\n",
            "=== Data Quality Report for Cleaned Data ===\n",
            "Shape: (10, 5)\n",
            "Memory usage: 2.04 KB\n",
            "\n",
            "Missing Values:\n",
            "✅ No missing values\n",
            "\n",
            "Duplicate Rows: 0\n",
            "\n",
            "Numerical Columns Summary:\n",
            "Value: mean=13.18, std=4.52, range=[8.00, 20.88]\n",
            "Score: mean=82.90, std=14.16, range=[45.00, 95.00]\n",
            "\n",
            "Categorical Columns Summary:\n",
            "Category: 2 unique values\n",
            "City: 3 unique values\n",
            "Name: 9 unique values\n"
          ]
        }
      ],
      "source": [
        "# Generate a comprehensive data quality report\n",
        "def data_quality_report(df, df_name):\n",
        "    print(f\"=== Data Quality Report for {df_name} ===\")\n",
        "    print(f\"Shape: {df.shape}\")\n",
        "    print(f\"Memory usage: {df.memory_usage(deep=True).sum() / 1024:.2f} KB\")\n",
        "    \n",
        "    print(f\"\\nMissing Values:\")\n",
        "    missing = df.isnull().sum()\n",
        "    if missing.sum() == 0:\n",
        "        print(\"✅ No missing values\")\n",
        "    else:\n",
        "        print(missing[missing > 0])\n",
        "    \n",
        "    print(f\"\\nDuplicate Rows: {df.duplicated().sum()}\")\n",
        "    \n",
        "    print(f\"\\nNumerical Columns Summary:\")\n",
        "    numeric_cols = df.select_dtypes(include=[np.number]).columns\n",
        "    for col in numeric_cols:\n",
        "        print(f\"{col}: mean={df[col].mean():.2f}, std={df[col].std():.2f}, range=[{df[col].min():.2f}, {df[col].max():.2f}]\")\n",
        "    \n",
        "    print(f\"\\nCategorical Columns Summary:\")\n",
        "    cat_cols = df.select_dtypes(include=['object']).columns\n",
        "    for col in cat_cols:\n",
        "        print(f\"{col}: {df[col].nunique()} unique values\")\n",
        "\n",
        "# Generate reports for original and cleaned data\n",
        "data_quality_report(df_messy, \"Original Messy Data\")\n",
        "print(\"\\n\" + \"=\"*50 + \"\\n\")\n",
        "data_quality_report(df_final, \"Cleaned Data\")\n"
      ]
    },
    {
      "cell_type": "markdown",
      "metadata": {},
      "source": [
        "### Aktivitet 3: Hands-on - Auditing a Dataset (30 min)\n",
        "Students will apply the full data quality audit (isnull().sum(), duplicated(), boxplots) to their project dataset, document the issues they find, and justify the method they would use to fix each issue.\n",
        "\n",
        "**Exercise:**\n",
        "1. Load your project dataset\n",
        "2. Run a comprehensive data quality audit\n",
        "3. Document all issues found\n",
        "4. Propose solutions for each issue\n",
        "5. Implement the most appropriate solutions\n",
        "6. Generate a final data quality report\n"
      ]
    },
    {
      "cell_type": "markdown",
      "metadata": {},
      "source": [
        "### Aktivitet 4: Q&A and Moving to Statistics (15 min)\n",
        "Discuss how cleaning the data (L16) and engineering the features (L15) directly leads to more trustworthy statistical and analytical results (L17).\n"
      ]
    },
    {
      "cell_type": "markdown",
      "metadata": {},
      "source": [
        "## Assignment\n",
        "**Complete the L16_assignment.py** - This assignment provides hands-on practice with data quality using a deliberately messy sales dataset, including:\n",
        "- Comprehensive data quality assessment\n",
        "- Missing value analysis and imputation strategies\n",
        "- Duplicate detection and handling\n",
        "- Outlier detection and treatment using IQR method\n",
        "- Data consistency and validation\n",
        "- Data quality monitoring functions\n",
        "- Comprehensive reporting and documentation\n"
      ]
    },
    {
      "cell_type": "markdown",
      "metadata": {},
      "source": [
        "## Key Takeaways\n",
        "\n",
        "1. **Data Quality is Critical**: Poor data quality leads to poor model performance and unreliable insights\n",
        "2. **Missing Value Strategies**:\n",
        "   - Mode for categorical variables\n",
        "   - Median for numerical variables (more robust than mean)\n",
        "   - Forward/backward fill for time series data\n",
        "3. **Outlier Detection**: Use IQR method for statistical outlier identification\n",
        "4. **Outlier Treatment Options**:\n",
        "   - **Capping (Winsorization)**: Preserve data points while reducing extreme values\n",
        "   - **Dropping**: Remove outliers entirely (use with caution)\n",
        "   - **Transformation**: Apply log or other transformations\n",
        "5. **Systematic Approach**: Always audit, document, and validate data quality improvements\n",
        "\n",
        "## Best Practices\n",
        "\n",
        "- **Document Everything**: Keep track of all data quality issues and solutions\n",
        "- **Validate Impact**: Check how cleaning affects your analysis results\n",
        "- **Domain Knowledge**: Consider business context when handling outliers\n",
        "- **Automate When Possible**: Create reusable functions for common cleaning tasks\n",
        "- **Test on Holdout**: Validate cleaning decisions on unseen data\n",
        "\n",
        "## Common Pitfalls\n",
        "\n",
        "- **Over-cleaning**: Don't remove too much data\n",
        "- **Under-cleaning**: Don't ignore obvious data quality issues\n",
        "- **Inconsistent Methods**: Use the same cleaning approach across similar datasets\n",
        "- **Ignoring Context**: Consider the business meaning of outliers before removing them\n",
        "\n",
        "## Next Steps\n",
        "- Practice with your own datasets\n",
        "- Build a reusable data quality pipeline\n",
        "- Learn about advanced imputation techniques\n",
        "- Move on to Lesson 17: Statistics and Hypothesis Testing\n"
      ]
    }
  ],
  "metadata": {
    "kernelspec": {
      "display_name": "venv",
      "language": "python",
      "name": "python3"
    },
    "language_info": {
      "codemirror_mode": {
        "name": "ipython",
        "version": 3
      },
      "file_extension": ".py",
      "mimetype": "text/x-python",
      "name": "python",
      "nbconvert_exporter": "python",
      "pygments_lexer": "ipython3",
      "version": "3.12.3"
    }
  },
  "nbformat": 4,
  "nbformat_minor": 2
}
